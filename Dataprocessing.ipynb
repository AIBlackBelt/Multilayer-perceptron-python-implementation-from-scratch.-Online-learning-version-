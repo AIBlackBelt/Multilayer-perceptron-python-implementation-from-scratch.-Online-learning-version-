{
 "cells": [
  {
   "cell_type": "code",
   "execution_count": 1,
   "metadata": {},
   "outputs": [
    {
     "name": "stdout",
     "output_type": "stream",
     "text": [
      "         800\\t0\\t0.3048\\t71.3\\t0.00266337\\t126.201  Frequency  \\\n",
      "0       1000\\t0\\t0.3048\\t71.3\\t0.00266337\\t125.201        800   \n",
      "1       1250\\t0\\t0.3048\\t71.3\\t0.00266337\\t125.951        800   \n",
      "2       1600\\t0\\t0.3048\\t71.3\\t0.00266337\\t127.591        800   \n",
      "3       2000\\t0\\t0.3048\\t71.3\\t0.00266337\\t127.461        800   \n",
      "4       2500\\t0\\t0.3048\\t71.3\\t0.00266337\\t125.571        800   \n",
      "...                                            ...        ...   \n",
      "1498  3150\\t15.6\\t0.1016\\t39.6\\t0.0528487\\t109.254        800   \n",
      "1499  4000\\t15.6\\t0.1016\\t39.6\\t0.0528487\\t106.604        800   \n",
      "1500  5000\\t15.6\\t0.1016\\t39.6\\t0.0528487\\t106.224        800   \n",
      "1501  6300\\t15.6\\t0.1016\\t39.6\\t0.0528487\\t104.204        800   \n",
      "1502                                             1        800   \n",
      "\n",
      "      Angle of attack  Chord length  Free-stream velocity  \\\n",
      "0                   0        0.3048                  71.3   \n",
      "1                   0        0.3048                  71.3   \n",
      "2                   0        0.3048                  71.3   \n",
      "3                   0        0.3048                  71.3   \n",
      "4                   0        0.3048                  71.3   \n",
      "...               ...           ...                   ...   \n",
      "1498                0        0.3048                  71.3   \n",
      "1499                0        0.3048                  71.3   \n",
      "1500                0        0.3048                  71.3   \n",
      "1501                0        0.3048                  71.3   \n",
      "1502                0        0.3048                  71.3   \n",
      "\n",
      "      Section side displacement thickness  Scaled sound pressure level  \n",
      "0                                0.002663                      126.201  \n",
      "1                                0.002663                      126.201  \n",
      "2                                0.002663                      126.201  \n",
      "3                                0.002663                      126.201  \n",
      "4                                0.002663                      126.201  \n",
      "...                                   ...                          ...  \n",
      "1498                             0.002663                      126.201  \n",
      "1499                             0.002663                      126.201  \n",
      "1500                             0.002663                      126.201  \n",
      "1501                             0.002663                      126.201  \n",
      "1502                             0.002663                      126.201  \n",
      "\n",
      "[1503 rows x 7 columns]\n"
     ]
    }
   ],
   "source": [
    "from pandas import read_csv\n",
    "import pandas as pd\n",
    "\n",
    "url = \"/home/dark/Mywork/Multilayerperceptron/Data/airfoil_self_noise.csv\"\n",
    "data = read_csv(url)\n",
    "#data.iloc[1502]=[\"1\"]\n",
    "data = data.append({\"800\\t0\\t0.3048\\t71.3\\t0.00266337\\t126.201\":1}, ignore_index = True)\n",
    "data[\"Frequency\"] = [800]*1503\n",
    "data[\"Angle of attack\"] = [0]*1503\n",
    "data[\"Chord length\"] = [0.3048]*1503\n",
    "data[\"Free-stream velocity\"] = [71.3]*1503\n",
    "data[\"Section side displacement thickness\"] = [0.00266337]*1503\n",
    "data[\"Scaled sound pressure level\"] = [126.201]*1503\n",
    "print(data)"
   ]
  },
  {
   "cell_type": "code",
   "execution_count": 7,
   "metadata": {},
   "outputs": [],
   "source": [
    "def extractintell(string):\n",
    "    g = 0 \n",
    "    list = []\n",
    "    for i in range(0,len(string)):\n",
    "        if string[i] == \"\\t\":\n",
    "            list = list + [string[g:i]]\n",
    "            g = i + 1\n",
    "            \n",
    "        if i == len(string)-1:\n",
    "            list = list + [string[g:i+1]]\n",
    "            #g = i + 1\n",
    "            #print(\"ca rentre\")\n",
    "    return list\n",
    "            \n",
    "           "
   ]
  },
  {
   "cell_type": "code",
   "execution_count": 8,
   "metadata": {},
   "outputs": [],
   "source": [
    "for i in range(0,1502):\n",
    "    extracted_data = extractintell(data.iloc[i][\"800\\t0\\t0.3048\\t71.3\\t0.00266337\\t126.201\"])\n",
    "    data.iloc[i+1,data.columns.get_loc('Frequency')] = float(extracted_data[0])\n",
    "    data.iloc[i+1,data.columns.get_loc(\"Angle of attack\")] = float(extracted_data[1])\n",
    "    data.iloc[i+1,data.columns.get_loc(\"Chord length\")] = float(extracted_data[2])\n",
    "    data.iloc[i+1,data.columns.get_loc(\"Free-stream velocity\")] = float(extracted_data[3])\n",
    "    data.iloc[i+1,data.columns.get_loc(\"Section side displacement thickness\")] = float(extracted_data[4])\n",
    "    data.iloc[i+1,data.columns.get_loc(\"Scaled sound pressure level\")] = float(extracted_data[5])\n",
    "    #data.iloc[i][\"Section side displacement thickness\"] = float(extracted_data[4])\n",
    "    \n",
    "    "
   ]
  },
  {
   "cell_type": "code",
   "execution_count": 9,
   "metadata": {},
   "outputs": [],
   "source": [
    "del data[\"800\\t0\\t0.3048\\t71.3\\t0.00266337\\t126.201\"]\n",
    "data.to_csv(\"/home/dark/Mywork/Multilayerperceptron/Data/processed_data.csv\")"
   ]
  },
  {
   "cell_type": "code",
   "execution_count": 10,
   "metadata": {},
   "outputs": [
    {
     "name": "stdout",
     "output_type": "stream",
     "text": [
      "      Frequency  Angle of attack  Chord length  Free-stream velocity  \\\n",
      "0         800.0              0.0        0.3048                  71.3   \n",
      "1        1000.0              0.0        0.3048                  71.3   \n",
      "2        1250.0              0.0        0.3048                  71.3   \n",
      "3        1600.0              0.0        0.3048                  71.3   \n",
      "4        2000.0              0.0        0.3048                  71.3   \n",
      "...         ...              ...           ...                   ...   \n",
      "1498     2500.0             15.6        0.1016                  39.6   \n",
      "1499     3150.0             15.6        0.1016                  39.6   \n",
      "1500     4000.0             15.6        0.1016                  39.6   \n",
      "1501     5000.0             15.6        0.1016                  39.6   \n",
      "1502     6300.0             15.6        0.1016                  39.6   \n",
      "\n",
      "      Section side displacement thickness  Scaled sound pressure level  \n",
      "0                                0.002663                      126.201  \n",
      "1                                0.002663                      125.201  \n",
      "2                                0.002663                      125.951  \n",
      "3                                0.002663                      127.591  \n",
      "4                                0.002663                      127.461  \n",
      "...                                   ...                          ...  \n",
      "1498                             0.052849                      110.264  \n",
      "1499                             0.052849                      109.254  \n",
      "1500                             0.052849                      106.604  \n",
      "1501                             0.052849                      106.224  \n",
      "1502                             0.052849                      104.204  \n",
      "\n",
      "[1503 rows x 6 columns]\n"
     ]
    }
   ],
   "source": [
    "print(data)"
   ]
  },
  {
   "cell_type": "code",
   "execution_count": 14,
   "metadata": {},
   "outputs": [
    {
     "name": "stdout",
     "output_type": "stream",
     "text": [
      "             0         1         2         3         4\n",
      "0     0.015152  0.427928  0.000000  0.000000  0.072626\n",
      "1     0.242424  0.000000  0.272727  1.000000  0.013964\n",
      "2     0.030303  0.427928  0.000000  0.601010  0.067707\n",
      "3     0.070707  0.328829  0.727273  0.601010  0.185654\n",
      "4     0.308081  0.000000  0.272727  0.601010  0.015844\n",
      "...        ...       ...       ...       ...       ...\n",
      "1047  0.002525  0.504505  0.090909  1.000000  0.235669\n",
      "1048  0.040404  0.572072  0.000000  1.000000  0.203068\n",
      "1049  0.070707  0.328829  0.727273  0.000000  0.221796\n",
      "1050  0.030303  0.887387  0.090909  1.000000  0.581232\n",
      "1051  0.191919  0.504505  0.090909  0.199495  0.252490\n",
      "\n",
      "[1052 rows x 5 columns]\n",
      "            0\n",
      "0     126.886\n",
      "1     130.795\n",
      "2     128.082\n",
      "3     123.354\n",
      "4     127.730\n",
      "...       ...\n",
      "1047  127.101\n",
      "1048  131.698\n",
      "1049  119.039\n",
      "1050  124.555\n",
      "1051  115.520\n",
      "\n",
      "[1052 rows x 1 columns]\n"
     ]
    }
   ],
   "source": [
    "from sklearn.model_selection import train_test_split\n",
    "from sklearn.preprocessing import MinMaxScaler\n",
    "import numpy as np \n",
    "x = np.array(data[[\"Frequency\",\"Angle of attack\",\"Chord length\",\"Free-stream velocity\",\"Section side displacement thickness\"]])\n",
    "y = np.array(data[[\"Scaled sound pressure level\"]])\n",
    "x_train, x_test, y_train, y_test = train_test_split(x, y,train_size=0.70)\n",
    "scaler = MinMaxScaler()\n",
    "# transform data\n",
    "x_train = scaler.fit_transform(x_train)\n",
    "x_test = scaler.fit_transform(x_test)\n",
    "x_train = pd.DataFrame(x_train)\n",
    "y_train = pd.DataFrame(y_train)\n",
    "print(x_train)\n",
    "print(y_train)"
   ]
  },
  {
   "cell_type": "code",
   "execution_count": 16,
   "metadata": {},
   "outputs": [],
   "source": [
    "x_train = x_train.rename(columns={0: 'Frequency',1:'Angle of attack',2:'Chord length',3:'Free-stream velocity',4:'Section side displacement thickness'})\n",
    "y_train = y_train.rename(columns={0:'Scaled sound pressure level'})\n",
    "x_test = pd.DataFrame(x_test)\n",
    "y_test = pd.DataFrame(y_test)\n",
    "x_test = x_test.rename(columns={0: 'Frequency',1:'Angle of attack',2:'Chord length',3:'Free-stream velocity',4:'Section side displacement thickness'})\n",
    "y_test = y_test.rename(columns={0:'Scaled sound pressure level'})"
   ]
  },
  {
   "cell_type": "code",
   "execution_count": null,
   "metadata": {},
   "outputs": [],
   "source": [
    "#from sklearn.preprocessing import MinMaxScaler\n",
    "print(x_train.corr())"
   ]
  },
  {
   "cell_type": "code",
   "execution_count": 22,
   "metadata": {},
   "outputs": [],
   "source": [
    "x_train.to_csv(\"/home/dark/Mywork/Multilayerperceptron/Data/trainingset.csv\")\n",
    "x_test.to_csv(\"/home/dark/Mywork/Multilayerperceptron/Data/testset.csv\")\n",
    "y_train.to_csv(\"/home/dark/Mywork/Multilayerperceptron/Data/trainingpredictedvariable.csv\")\n",
    "y_test.to_csv(\"/home/dark/Mywork/Multilayerperceptron/Data/testpredictedvariable.csv\")\n"
   ]
  },
  {
   "cell_type": "code",
   "execution_count": 8,
   "metadata": {},
   "outputs": [],
   "source": [
    "url = \"/home/dark/Mywork/Multilayerperceptron/Data/trainingpredictedvariable.csv\"\n",
    "data = read_csv(url)"
   ]
  },
  {
   "cell_type": "code",
   "execution_count": 10,
   "metadata": {},
   "outputs": [
    {
     "name": "stdout",
     "output_type": "stream",
     "text": [
      "<class 'pandas.core.series.Series'>\n"
     ]
    }
   ],
   "source": [
    "print(type(data.iloc[0]))"
   ]
  },
  {
   "cell_type": "code",
   "execution_count": null,
   "metadata": {},
   "outputs": [],
   "source": []
  }
 ],
 "metadata": {
  "kernelspec": {
   "display_name": "Python 3",
   "language": "python",
   "name": "python3"
  },
  "language_info": {
   "codemirror_mode": {
    "name": "ipython",
    "version": 3
   },
   "file_extension": ".py",
   "mimetype": "text/x-python",
   "name": "python",
   "nbconvert_exporter": "python",
   "pygments_lexer": "ipython3",
   "version": "3.8.10"
  }
 },
 "nbformat": 4,
 "nbformat_minor": 4
}
